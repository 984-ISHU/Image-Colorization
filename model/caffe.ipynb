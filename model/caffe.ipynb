{
 "cells": [
  {
   "cell_type": "code",
   "execution_count": 1,
   "id": "1875f202",
   "metadata": {},
   "outputs": [],
   "source": [
    "import numpy as np \n",
    "import cv2\n",
    "from cv2 import dnn"
   ]
  },
  {
   "cell_type": "code",
   "execution_count": 2,
   "id": "6ab5afc4",
   "metadata": {},
   "outputs": [],
   "source": [
    "#--------Model file paths--------#\n",
    "proto_file = 'colorization_deploy_v2.prototxt'\n",
    "model_file = 'colorization_release_v2.caffemodel'\n",
    "hull_pts = 'pts_in_hull.npy'\n",
    "img_path = './landscape Images/gray/1303.jpg'\n",
    "color_path = './landscape Images/color/1303.jpg'"
   ]
  },
  {
   "cell_type": "code",
   "execution_count": 3,
   "id": "4fb032ac",
   "metadata": {},
   "outputs": [],
   "source": [
    "#--------Reading the model params--------#\n",
    "net = dnn.readNetFromCaffe(proto_file,model_file)\n",
    "kernel = np.load(hull_pts)"
   ]
  },
  {
   "cell_type": "code",
   "execution_count": 4,
   "id": "82f3e839",
   "metadata": {},
   "outputs": [],
   "source": [
    "#-----Reading and preprocessing image--------#\n",
    "img = cv2.imread(img_path)\n",
    "color = cv2.imread(color_path)\n",
    "scaled = img.astype(\"float32\") / 255.0\n",
    "lab_img = cv2.cvtColor(scaled, cv2.COLOR_BGR2LAB)"
   ]
  },
  {
   "cell_type": "code",
   "execution_count": 5,
   "id": "d53fca22",
   "metadata": {},
   "outputs": [],
   "source": [
    "# add the cluster centers as 1x1 convolutions to the model\n",
    "class8 = net.getLayerId(\"class8_ab\")\n",
    "conv8 = net.getLayerId(\"conv8_313_rh\")\n",
    "pts = kernel.transpose().reshape(2, 313, 1, 1)\n",
    "net.getLayer(class8).blobs = [pts.astype(\"float32\")]\n",
    "net.getLayer(conv8).blobs = [np.full([1, 313], 2.606, dtype=\"float32\")]"
   ]
  },
  {
   "cell_type": "code",
   "execution_count": 6,
   "id": "de3acc13",
   "metadata": {},
   "outputs": [],
   "source": [
    "# we'll resize the image for the network\n",
    "resized = cv2.resize(lab_img, (224, 224))\n",
    "# split the L channel\n",
    "L = cv2.split(resized)[0]\n",
    "# mean subtraction\n",
    "L -= 50"
   ]
  },
  {
   "cell_type": "code",
   "execution_count": 7,
   "id": "59bff38f",
   "metadata": {},
   "outputs": [],
   "source": [
    "# predicting the ab channels from the input L channel\n",
    " \n",
    "net.setInput(cv2.dnn.blobFromImage(L))\n",
    "ab_channel = net.forward()[0, :, :, :].transpose((1, 2, 0))\n",
    "# resize the predicted 'ab' volume to the same dimensions as our\n",
    "# input image\n",
    "ab_channel = cv2.resize(ab_channel, (img.shape[1], img.shape[0]))\n",
    " "
   ]
  },
  {
   "cell_type": "code",
   "execution_count": 8,
   "id": "69c31857",
   "metadata": {},
   "outputs": [],
   "source": [
    "# Take the L channel from the image\n",
    "L = cv2.split(lab_img)[0]\n",
    "# Join the L channel with predicted ab channel\n",
    "colorized = np.concatenate((L[:, :, np.newaxis], ab_channel), axis=2)"
   ]
  },
  {
   "cell_type": "code",
   "execution_count": 9,
   "id": "889a60ae",
   "metadata": {},
   "outputs": [],
   "source": [
    "# Then convert the image from Lab to BGR \n",
    "colorized = cv2.cvtColor(colorized, cv2.COLOR_LAB2BGR)\n",
    "colorized = np.clip(colorized, 0, 1)"
   ]
  },
  {
   "cell_type": "code",
   "execution_count": 10,
   "id": "4720eab6",
   "metadata": {},
   "outputs": [],
   "source": [
    "# change the image to 0-255 range and convert it from float32 to int\n",
    "colorized = (255 * colorized).astype(\"uint8\")"
   ]
  },
  {
   "cell_type": "code",
   "execution_count": 11,
   "id": "0cdcf50c",
   "metadata": {},
   "outputs": [],
   "source": [
    "# Let's resize the images and show them together\n",
    "img = cv2.resize(img,(510,510))\n",
    "colorized = cv2.resize(colorized,(510,510))\n",
    "original = cv2.resize(color,(510,510))"
   ]
  },
  {
   "cell_type": "code",
   "execution_count": 12,
   "id": "7a74c819",
   "metadata": {},
   "outputs": [
    {
     "data": {
      "text/plain": [
       "-1"
      ]
     },
     "execution_count": 12,
     "metadata": {},
     "output_type": "execute_result"
    }
   ],
   "source": [
    "result = cv2.hconcat([original,img,colorized])\n",
    " \n",
    "cv2.imshow(\"Original -> Grayscale -> Colour\", result)\n",
    " \n",
    "cv2.waitKey(0)"
   ]
  },
  {
   "cell_type": "code",
   "execution_count": null,
   "id": "698006c4",
   "metadata": {},
   "outputs": [],
   "source": []
  }
 ],
 "metadata": {
  "kernelspec": {
   "display_name": "Python 3 (ipykernel)",
   "language": "python",
   "name": "python3"
  },
  "language_info": {
   "codemirror_mode": {
    "name": "ipython",
    "version": 3
   },
   "file_extension": ".py",
   "mimetype": "text/x-python",
   "name": "python",
   "nbconvert_exporter": "python",
   "pygments_lexer": "ipython3",
   "version": "3.10.9"
  }
 },
 "nbformat": 4,
 "nbformat_minor": 5
}
